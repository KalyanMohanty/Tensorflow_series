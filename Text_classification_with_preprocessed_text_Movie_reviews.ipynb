{
  "nbformat": 4,
  "nbformat_minor": 0,
  "metadata": {
    "colab": {
      "name": "Text classification with preprocessed text: Movie reviews.ipynb",
      "provenance": [],
      "collapsed_sections": [],
      "authorship_tag": "ABX9TyPc7hHOVK8Oc09LD3jeEzig",
      "include_colab_link": true
    },
    "kernelspec": {
      "name": "python3",
      "display_name": "Python 3"
    }
  },
  "cells": [
    {
      "cell_type": "markdown",
      "metadata": {
        "id": "view-in-github",
        "colab_type": "text"
      },
      "source": [
        "<a href=\"https://colab.research.google.com/github/KalyanMohanty/Tensorflow_series/blob/master/Text_classification_with_preprocessed_text_Movie_reviews.ipynb\" target=\"_parent\"><img src=\"https://colab.research.google.com/assets/colab-badge.svg\" alt=\"Open In Colab\"/></a>"
      ]
    },
    {
      "cell_type": "code",
      "metadata": {
        "id": "9fgqfd_nBKKt",
        "colab_type": "code",
        "colab": {
          "base_uri": "https://localhost:8080/",
          "height": 173
        },
        "outputId": "7c5cbd07-26c7-40c2-9fef-1950757811fe"
      },
      "source": [
        "import numpy as np\n",
        "import tensorflow as tf\n",
        "from tensorflow import keras\n",
        "import tensorflow_datasets as tfds\n",
        "tfds.disable_progress_bar()\n",
        "!pip install -q tf -nightly"
      ],
      "execution_count": 2,
      "outputs": [
        {
          "output_type": "stream",
          "text": [
            "\n",
            "Usage:   \n",
            "  pip3 install [options] <requirement specifier> [package-index-options] ...\n",
            "  pip3 install [options] -r <requirements file> [package-index-options] ...\n",
            "  pip3 install [options] [-e] <vcs project url> ...\n",
            "  pip3 install [options] [-e] <local project path> ...\n",
            "  pip3 install [options] <archive url/path> ...\n",
            "\n",
            "no such option: -n\n"
          ],
          "name": "stdout"
        }
      ]
    },
    {
      "cell_type": "code",
      "metadata": {
        "id": "tuT6YDCQCjlf",
        "colab_type": "code",
        "colab": {
          "base_uri": "https://localhost:8080/",
          "height": 124
        },
        "outputId": "8c260164-2cbc-4d9a-d85d-0e54fa24a70f"
      },
      "source": [
        "(train_data, test_data), info = tfds.load('imdb_reviews/subwords8k', split = (tfds.Split.TRAIN, tfds.Split.TEST), as_supervised = True, with_info = True)\n"
      ],
      "execution_count": 3,
      "outputs": [
        {
          "output_type": "stream",
          "text": [
            "\u001b[1mDownloading and preparing dataset imdb_reviews/subwords8k/1.0.0 (download: 80.23 MiB, generated: Unknown size, total: 80.23 MiB) to /root/tensorflow_datasets/imdb_reviews/subwords8k/1.0.0...\u001b[0m\n",
            "Shuffling and writing examples to /root/tensorflow_datasets/imdb_reviews/subwords8k/1.0.0.incompleteWPRV92/imdb_reviews-train.tfrecord\n",
            "Shuffling and writing examples to /root/tensorflow_datasets/imdb_reviews/subwords8k/1.0.0.incompleteWPRV92/imdb_reviews-test.tfrecord\n",
            "Shuffling and writing examples to /root/tensorflow_datasets/imdb_reviews/subwords8k/1.0.0.incompleteWPRV92/imdb_reviews-unsupervised.tfrecord\n",
            "\u001b[1mDataset imdb_reviews downloaded and prepared to /root/tensorflow_datasets/imdb_reviews/subwords8k/1.0.0. Subsequent calls will reuse this data.\u001b[0m\n"
          ],
          "name": "stdout"
        }
      ]
    },
    {
      "cell_type": "markdown",
      "metadata": {
        "id": "1wMdkIgVFIzp",
        "colab_type": "text"
      },
      "source": [
        "#Try the encoder\n",
        "The dataset info includes the text encoder (a tfds.features.text.SubwordTextEncoder)."
      ]
    },
    {
      "cell_type": "code",
      "metadata": {
        "id": "nNk8APlBE8zy",
        "colab_type": "code",
        "colab": {
          "base_uri": "https://localhost:8080/",
          "height": 35
        },
        "outputId": "6603ad66-2e92-4815-c47e-f81b1c3f06b3"
      },
      "source": [
        "encoder = info.features['text'].encoder\n",
        "print('vocabulary size: {}'.format(encoder.vocab_size))"
      ],
      "execution_count": 5,
      "outputs": [
        {
          "output_type": "stream",
          "text": [
            "vocabulary size: 8185\n"
          ],
          "name": "stdout"
        }
      ]
    },
    {
      "cell_type": "code",
      "metadata": {
        "id": "yR-AseeeFg65",
        "colab_type": "code",
        "colab": {
          "base_uri": "https://localhost:8080/",
          "height": 35
        },
        "outputId": "dd7f51d4-4978-41f0-ffc7-8e012bad6eff"
      },
      "source": [
        "sample_string = 'hello world'\n",
        "encoded_string = encoder.encode(sample_string)\n",
        "print('Encoded string is:{}'.format(encoded_string))"
      ],
      "execution_count": 19,
      "outputs": [
        {
          "output_type": "stream",
          "text": [
            "Encoded string is:[3618, 222, 562]\n"
          ],
          "name": "stdout"
        }
      ]
    },
    {
      "cell_type": "code",
      "metadata": {
        "id": "g6SpRq-lFhNS",
        "colab_type": "code",
        "colab": {
          "base_uri": "https://localhost:8080/",
          "height": 35
        },
        "outputId": "007a2684-69f1-4dee-809b-99b349e8915e"
      },
      "source": [
        "original_string = encoder.decode(encoded_string)\n",
        "print('The original string:'\"{}\"'.format(original_string))\n",
        "assert original_string == sample_string"
      ],
      "execution_count": 17,
      "outputs": [
        {
          "output_type": "stream",
          "text": [
            "The original string:\"hello world\"\n"
          ],
          "name": "stdout"
        }
      ]
    },
    {
      "cell_type": "markdown",
      "metadata": {
        "id": "y9ElkbRIHq9F",
        "colab_type": "text"
      },
      "source": [
        "The encoder encodes the string by breaking it into subwords or characters if the word is not in its dictionary. So the more a string resembles the dataset, the shorter the encoded representation will be."
      ]
    },
    {
      "cell_type": "code",
      "metadata": {
        "id": "xNIF2jBaFg5a",
        "colab_type": "code",
        "colab": {
          "base_uri": "https://localhost:8080/",
          "height": 69
        },
        "outputId": "020e2090-6d59-4e29-e1d5-1aba1a80d004"
      },
      "source": [
        "for i in encoded_string:\n",
        "  print('{}----->{}'.format(i, encoder.decode([i])))"
      ],
      "execution_count": 20,
      "outputs": [
        {
          "output_type": "stream",
          "text": [
            "3618----->hell\n",
            "222----->o \n",
            "562----->world\n"
          ],
          "name": "stdout"
        }
      ]
    },
    {
      "cell_type": "markdown",
      "metadata": {
        "id": "UInFJmX0IASt",
        "colab_type": "text"
      },
      "source": [
        "# Exploring the data\n",
        "Let's take a moment to understand the format of the data. The dataset comes preprocessed: each example is an array of integers representing the words of the movie review.\n",
        "\n",
        "The text of reviews have been converted to integers, where each integer represents a specific word-piece in the dictionary.\n",
        "\n",
        "Each label is an integer value of either 0 or 1, where 0 is a negative review, and 1 is a positive review."
      ]
    },
    {
      "cell_type": "code",
      "metadata": {
        "id": "pcgCZObeH7ad",
        "colab_type": "code",
        "colab": {
          "base_uri": "https://localhost:8080/",
          "height": 89
        },
        "outputId": "cb9d77b1-f6d2-4bc0-f236-2b05cd7c671a"
      },
      "source": [
        "for train_example, train_label in train_data.take(1):\n",
        "  print('Encoded text:', train_example[:20].numpy())\n",
        "  print('Label:', train_label.numpy())"
      ],
      "execution_count": 23,
      "outputs": [
        {
          "output_type": "stream",
          "text": [
            "Encoded text: [  62   18   41  604  927   65    3  644 7968   21   35 5096   36   11\n",
            "   43 2948 5240  102   50  681]\n",
            "Label: 0\n"
          ],
          "name": "stdout"
        }
      ]
    },
    {
      "cell_type": "code",
      "metadata": {
        "id": "Z1zh-4IDIstI",
        "colab_type": "code",
        "colab": {
          "base_uri": "https://localhost:8080/",
          "height": 55
        },
        "outputId": "e89a6895-b913-4ae1-8ec6-6c65f1d8f51d"
      },
      "source": [
        "encoder.decode(train_example)"
      ],
      "execution_count": 24,
      "outputs": [
        {
          "output_type": "execute_result",
          "data": {
            "text/plain": [
              "\"This was an absolutely terrible movie. Don't be lured in by Christopher Walken or Michael Ironside. Both are great actors, but this must simply be their worst role in history. Even their great acting could not redeem this movie's ridiculous storyline. This movie is an early nineties US propaganda piece. The most pathetic scenes were those when the Columbian rebels were making their cases for revolutions. Maria Conchita Alonso appeared phony, and her pseudo-love affair with Walken was nothing but a pathetic emotional plug in a movie that was devoid of any real meaning. I am disappointed that there are movies like this, ruining actor's like Christopher Walken's good name. I could barely sit through it.\""
            ]
          },
          "metadata": {
            "tags": []
          },
          "execution_count": 24
        }
      ]
    },
    {
      "cell_type": "markdown",
      "metadata": {
        "id": "w4cOKjOaI7g8",
        "colab_type": "text"
      },
      "source": [
        "# Prepare the data for training\n",
        "\n",
        "You will want to create batches of training data for your model. The reviews are all different lengths, so use padded_batch to zero pad the sequences while batching:"
      ]
    },
    {
      "cell_type": "code",
      "metadata": {
        "id": "s_aWbw0tIx8c",
        "colab_type": "code",
        "colab": {}
      },
      "source": [
        "BUFFER_SIZE = 1000\n",
        "train_batches = (train_data.shuffle(BUFFER_SIZE).padded_batch(32, padded_shapes = ([None],[])))\n",
        "test_batches = (test_data.padded_batch(32, padded_shapes= ([None],[])))"
      ],
      "execution_count": 0,
      "outputs": []
    },
    {
      "cell_type": "markdown",
      "metadata": {
        "id": "NUzz_x7wJ57j",
        "colab_type": "text"
      },
      "source": [
        "* Note: As of TensorFlow 2.2 the padded_shapes argument is no longer required. The default behavior is to pad all axes to the longest in the batch.\n",
        "\n",
        "Each batch will have a shape of (batch_size, sequence_length) because the padding is dynamic each batch will have a different length"
      ]
    },
    {
      "cell_type": "code",
      "metadata": {
        "id": "zojwLsFfJEuz",
        "colab_type": "code",
        "colab": {
          "base_uri": "https://localhost:8080/",
          "height": 87
        },
        "outputId": "6e49048d-206f-4987-ca73-833b9043bfac"
      },
      "source": [
        "for example_batch, label_batch in train_batches.take(2):\n",
        "  print('Batch shape:', example_batch.shape)\n",
        "  print('Label shape:', label_batch.shape)"
      ],
      "execution_count": 30,
      "outputs": [
        {
          "output_type": "stream",
          "text": [
            "Batch shape: (32, 820)\n",
            "Label shape: (32,)\n",
            "Batch shape: (32, 1043)\n",
            "Label shape: (32,)\n"
          ],
          "name": "stdout"
        }
      ]
    },
    {
      "cell_type": "markdown",
      "metadata": {
        "id": "lHdI2yE2Kdu0",
        "colab_type": "text"
      },
      "source": [
        "# Building the model\n",
        "* the input data consists of an array of word-indices. The labels to predict are either 0 or 1. Let's build a \"Continuous bag of words\" style model for this problem.\n",
        "* Caution: This model doesn't use masking, so the zero-padding is used as part of the input, so the padding length may affect the output. To fix this, see the masking and padding guide."
      ]
    },
    {
      "cell_type": "code",
      "metadata": {
        "id": "CnkauhFsJ2Ir",
        "colab_type": "code",
        "colab": {
          "base_uri": "https://localhost:8080/",
          "height": 260
        },
        "outputId": "69a8174f-f13c-47f5-ba84-186ca3318ddb"
      },
      "source": [
        "model = keras.Sequential([\n",
        "                          keras.layers.Embedding(encoder.vocab_size, 16),\n",
        "                          keras.layers.GlobalAveragePooling1D(),\n",
        "                          keras.layers.Dense(1)\n",
        "])\n",
        "model.summary()"
      ],
      "execution_count": 31,
      "outputs": [
        {
          "output_type": "stream",
          "text": [
            "Model: \"sequential\"\n",
            "_________________________________________________________________\n",
            "Layer (type)                 Output Shape              Param #   \n",
            "=================================================================\n",
            "embedding (Embedding)        (None, None, 16)          130960    \n",
            "_________________________________________________________________\n",
            "global_average_pooling1d (Gl (None, 16)                0         \n",
            "_________________________________________________________________\n",
            "dense (Dense)                (None, 1)                 17        \n",
            "=================================================================\n",
            "Total params: 130,977\n",
            "Trainable params: 130,977\n",
            "Non-trainable params: 0\n",
            "_________________________________________________________________\n"
          ],
          "name": "stdout"
        }
      ]
    },
    {
      "cell_type": "markdown",
      "metadata": {
        "id": "IzB0WllGLnee",
        "colab_type": "text"
      },
      "source": [
        "The layers are stacked sequentially to build the classifier:\n",
        "\n",
        "* The first layer is an Embedding layer. This layer takes the integer-encoded vocabulary and looks up the embedding vector for each word-index. These vectors are learned as the model trains. The vectors add a dimension to the output array. The resulting dimensions are: (batch, sequence, embedding). To learn more about embeddings, see the word embedding tutorial.\n",
        "* Next, a GlobalAveragePooling1D layer returns a fixed-length output vector for each example by averaging over the sequence dimension. This allows the model to handle input of variable length, in the simplest way possible.\n",
        "* This fixed-length output vector is piped through a fully-connected (Dense) layer with 16 hidden units.\n",
        "* The last layer is densely connected with a single output node. Using the sigmoid activation function, this value is a float between 0 and 1, representing a probability, or confidence level. For numerical stability, use the linear activation function that represents the logits"
      ]
    },
    {
      "cell_type": "code",
      "metadata": {
        "id": "HlHKMma9LKK6",
        "colab_type": "code",
        "colab": {}
      },
      "source": [
        "model.compile(optimizer='adam',\n",
        "              loss=tf.losses.BinaryCrossentropy(from_logits=True),\n",
        "              metrics=['accuracy'])"
      ],
      "execution_count": 0,
      "outputs": []
    },
    {
      "cell_type": "markdown",
      "metadata": {
        "id": "u7RPUAIuL86u",
        "colab_type": "text"
      },
      "source": [
        "# Loss function and optimizer\n",
        "A model needs a loss function and an optimizer for training. Since this is a binary classification problem and the model outputs a probability (a single-unit layer with a sigmoid activation), we'll use the binary_crossentropy loss function.\n",
        "\n",
        "This isn't the only choice for a loss function, you could, for instance, choose mean_squared_error. But, generally, binary_crossentropy is better for dealing with probabilities—it measures the \"distance\" between probability distributions, or in our case, between the ground-truth distribution and the predictions.\n",
        "\n",
        "Later, when we are exploring regression problems (say, to predict the price of a house), we will see how to use another loss function called mean squared error.\n",
        "\n",
        "Now, configure the model to use an optimizer and a loss function:"
      ]
    },
    {
      "cell_type": "markdown",
      "metadata": {
        "id": "aimsgSrNMDDC",
        "colab_type": "text"
      },
      "source": [
        "# Train the model"
      ]
    },
    {
      "cell_type": "code",
      "metadata": {
        "id": "kF3YkfoYL3m3",
        "colab_type": "code",
        "colab": {
          "base_uri": "https://localhost:8080/",
          "height": 384
        },
        "outputId": "3356c97e-6762-48a5-90b6-588e94bb35a5"
      },
      "source": [
        "history = model.fit(train_batches,epochs = 10,\n",
        "                    validation_data = test_batches,\n",
        "                    validation_steps = 30)"
      ],
      "execution_count": 35,
      "outputs": [
        {
          "output_type": "stream",
          "text": [
            "Epoch 1/10\n",
            "782/782 [==============================] - 10s 12ms/step - loss: 0.6823 - accuracy: 0.5003 - val_loss: 0.6657 - val_accuracy: 0.5042\n",
            "Epoch 2/10\n",
            "782/782 [==============================] - 9s 12ms/step - loss: 0.6235 - accuracy: 0.5506 - val_loss: 0.5983 - val_accuracy: 0.5875\n",
            "Epoch 3/10\n",
            "782/782 [==============================] - 9s 11ms/step - loss: 0.5461 - accuracy: 0.6571 - val_loss: 0.5366 - val_accuracy: 0.7031\n",
            "Epoch 4/10\n",
            "782/782 [==============================] - 9s 12ms/step - loss: 0.4780 - accuracy: 0.7476 - val_loss: 0.4867 - val_accuracy: 0.7792\n",
            "Epoch 5/10\n",
            "782/782 [==============================] - 9s 12ms/step - loss: 0.4255 - accuracy: 0.7988 - val_loss: 0.4487 - val_accuracy: 0.7875\n",
            "Epoch 6/10\n",
            "782/782 [==============================] - 9s 12ms/step - loss: 0.3851 - accuracy: 0.8308 - val_loss: 0.4203 - val_accuracy: 0.8042\n",
            "Epoch 7/10\n",
            "782/782 [==============================] - 9s 12ms/step - loss: 0.3524 - accuracy: 0.8504 - val_loss: 0.3993 - val_accuracy: 0.8417\n",
            "Epoch 8/10\n",
            "782/782 [==============================] - 9s 12ms/step - loss: 0.3273 - accuracy: 0.8649 - val_loss: 0.3838 - val_accuracy: 0.8458\n",
            "Epoch 9/10\n",
            "782/782 [==============================] - 9s 12ms/step - loss: 0.3080 - accuracy: 0.8761 - val_loss: 0.3729 - val_accuracy: 0.8646\n",
            "Epoch 10/10\n",
            "782/782 [==============================] - 9s 12ms/step - loss: 0.2904 - accuracy: 0.8845 - val_loss: 0.3650 - val_accuracy: 0.8500\n"
          ],
          "name": "stdout"
        }
      ]
    },
    {
      "cell_type": "markdown",
      "metadata": {
        "id": "FjFiSgd7MWnC",
        "colab_type": "text"
      },
      "source": [
        "# Evaluate the model"
      ]
    },
    {
      "cell_type": "code",
      "metadata": {
        "id": "fZowrrfoMYlT",
        "colab_type": "code",
        "colab": {
          "base_uri": "https://localhost:8080/",
          "height": 89
        },
        "outputId": "f102c713-7fec-43f4-a3be-43826d876852"
      },
      "source": [
        "loss,accuracy = model.evaluate(test_batches)\n",
        "print('Loss:', loss)\n",
        "print('Accuracy:', accuracy)\n"
      ],
      "execution_count": 37,
      "outputs": [
        {
          "output_type": "stream",
          "text": [
            "782/782 [==============================] - 6s 7ms/step - loss: 0.3337 - accuracy: 0.8539\n",
            "Loss: 0.33373570442199707\n",
            "Accuracy: 0.8539199829101562\n"
          ],
          "name": "stdout"
        }
      ]
    },
    {
      "cell_type": "markdown",
      "metadata": {
        "id": "7B-g-JS7Mr0G",
        "colab_type": "text"
      },
      "source": [
        "# Graph over time"
      ]
    },
    {
      "cell_type": "code",
      "metadata": {
        "id": "_MtBd0eIMukA",
        "colab_type": "code",
        "colab": {
          "base_uri": "https://localhost:8080/",
          "height": 35
        },
        "outputId": "04381be2-4006-4a34-9cc5-35837f8d042d"
      },
      "source": [
        "history_dict = history.history\n",
        "history_dict.keys()"
      ],
      "execution_count": 38,
      "outputs": [
        {
          "output_type": "execute_result",
          "data": {
            "text/plain": [
              "dict_keys(['loss', 'accuracy', 'val_loss', 'val_accuracy'])"
            ]
          },
          "metadata": {
            "tags": []
          },
          "execution_count": 38
        }
      ]
    },
    {
      "cell_type": "markdown",
      "metadata": {
        "id": "CAQuSXRmNGSS",
        "colab_type": "text"
      },
      "source": [
        "There are four entries: one for each monitored metric during training and validation. We can use these to plot the training and validation loss for comparison, as well as the training and validation accuracy:"
      ]
    },
    {
      "cell_type": "code",
      "metadata": {
        "id": "m762mphkM_-D",
        "colab_type": "code",
        "colab": {
          "base_uri": "https://localhost:8080/",
          "height": 295
        },
        "outputId": "b13e9099-933d-42ba-d0b8-53b092426d21"
      },
      "source": [
        "import matplotlib.pyplot as plt\n",
        "%matplotlib inline\n",
        "\n",
        "acc = history_dict['accuracy']\n",
        "val_acc = history_dict['val_accuracy']\n",
        "\n",
        "loss = history_dict['loss']\n",
        "val_loss = history_dict['val_loss']\n",
        "\n",
        "epochs = range(1, len(acc)+1)\n",
        "\n",
        "plt.plot(epochs, loss, 'ro', label = 'training loss')\n",
        "plt.plot(epochs, val_loss, 'b', label = 'validation loss')\n",
        "\n",
        "plt.title('Traing and validation loss')\n",
        "plt.xlabel('Epochs')\n",
        "plt.ylabel('Loss')\n",
        "plt.legend()\n",
        "\n",
        "plt.show()"
      ],
      "execution_count": 42,
      "outputs": [
        {
          "output_type": "display_data",
          "data": {
            "image/png": "[encoded data removed]",
            "text/plain": [
              "<Figure size 432x288 with 1 Axes>"
            ]
          },
          "metadata": {
            "tags": [],
            "needs_background": "light"
          }
        }
      ]
    },
    {
      "cell_type": "code",
      "metadata": {
        "id": "EtI0XuilO8Oj",
        "colab_type": "code",
        "colab": {
          "base_uri": "https://localhost:8080/",
          "height": 295
        },
        "outputId": "711543d9-c6e5-4875-d25d-ca17b7bc2f3e"
      },
      "source": [
        "plt.clf()   # clear figure\n",
        "\n",
        "plt.plot(epochs, acc, 'bo', label='Training acc')\n",
        "plt.plot(epochs, val_acc, 'r', label='Validation acc')\n",
        "plt.title('Training and validation accuracy')\n",
        "plt.xlabel('Epochs')\n",
        "plt.ylabel('Accuracy')\n",
        "plt.legend(loc='lower right')\n",
        "\n",
        "plt.show()"
      ],
      "execution_count": 44,
      "outputs": [
        {
          "output_type": "display_data",
          "data": {
            "image/png": "[encoded data removed]",
            "text/plain": [
              "<Figure size 432x288 with 1 Axes>"
            ]
          },
          "metadata": {
            "tags": [],
            "needs_background": "light"
          }
        }
      ]
    },
    {
      "cell_type": "markdown",
      "metadata": {
        "id": "mSzprbPxPVp8",
        "colab_type": "text"
      },
      "source": [
        "In this plot, the dots represent the training loss and accuracy, and the solid lines are the validation loss and accuracy.\n",
        "\n",
        "Notice the training loss decreases with each epoch and the training accuracy increases with each epoch. This is expected when using a gradient descent optimization—it should minimize the desired quantity on every iteration.\n",
        "\n",
        "This isn't the case for the validation loss and accuracy—they seem to peak after about twenty epochs. This is an example of overfitting: the model performs better on the training data than it does on data it has never seen before. After this point, the model over-optimizes and learns representations specific to the training data that do not generalize to test data.\n",
        "\n",
        "For this particular case, we could prevent overfitting by simply stopping the training after twenty or so epochs. Later, you'll see how to do this automatically with a callback."
      ]
    }
  ]
}